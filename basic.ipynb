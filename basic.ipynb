{
 "cells": [
  {
   "cell_type": "markdown",
   "id": "ec2418e6",
   "metadata": {},
   "source": [
    "# энгийн хэвлэх үйлдэл"
   ]
  },
  {
   "cell_type": "code",
   "execution_count": 1,
   "id": "76b3ae71",
   "metadata": {},
   "outputs": [
    {
     "name": "stdout",
     "output_type": "stream",
     "text": [
      "Hello Python\n"
     ]
    }
   ],
   "source": [
    "print(\"Hello Python\")\n"
   ]
  },
  {
   "cell_type": "code",
   "execution_count": 2,
   "id": "64217b7a",
   "metadata": {},
   "outputs": [
    {
     "name": "stdout",
     "output_type": "stream",
     "text": [
      "1 vs Tumuruu\n"
     ]
    }
   ],
   "source": [
    "print(\"{} vs {}\".format(1, \"Tumuruu\"))"
   ]
  },
  {
   "cell_type": "markdown",
   "id": "27cb49eb",
   "metadata": {},
   "source": [
    "# Тэмдэгтийн зай дүүргэж хэвлэх"
   ]
  },
  {
   "cell_type": "code",
   "execution_count": 4,
   "id": "3e0f8de2",
   "metadata": {},
   "outputs": [
    {
     "name": "stdout",
     "output_type": "stream",
     "text": [
      " hello   tumuruu\n",
      "   tumuruu\n",
      "my favorite programming language is python     Anything\n"
     ]
    }
   ],
   "source": [
    "print(\" hello{:>10}\".format(\"tumuruu\"))\n",
    "print(\"{:>10}\".format(\"tumuruu\"))\n",
    "print(\"my favorite programming language is {:10} Anything\".format('python'))"
   ]
  },
  {
   "cell_type": "markdown",
   "id": "7dbcaf6f",
   "metadata": {},
   "source": [
    "# тэмдэгтийг тасдаж хэвлэх"
   ]
  },
  {
   "cell_type": "code",
   "execution_count": null,
   "id": "94e61c7b",
   "metadata": {},
   "outputs": [
    {
     "name": "stdout",
     "output_type": "stream",
     "text": [
      "abcde\n",
      "G. Dorjoo\n"
     ]
    }
   ],
   "source": [
    "print(\"{:.5}\".format(\"abcdefg\"))\n",
    "\n",
    "print(\"{:.1}. {}\".format(\"Ganaa\", \"Dorjoo\"))\n"
   ]
  },
  {
   "cell_type": "markdown",
   "id": "6bb6c7b8",
   "metadata": {},
   "source": [
    "# тоо хэвлэх"
   ]
  },
  {
   "cell_type": "code",
   "execution_count": 6,
   "id": "a1033ec5",
   "metadata": {},
   "outputs": [
    {
     "name": "stdout",
     "output_type": "stream",
     "text": [
      "10\n",
      "10.320000\n",
      "   100\n",
      "3.142\n"
     ]
    }
   ],
   "source": [
    "print(\"{:d}\".format(10))\n",
    "print(\"{:f}\".format(10.32))\n",
    "print(\"{:6d}\".format(100))\n",
    "print(\"{:04.3f}\".format(3.141592))"
   ]
  },
  {
   "cell_type": "markdown",
   "id": "19f0b065",
   "metadata": {},
   "source": [
    "# гараас утга авах "
   ]
  },
  {
   "cell_type": "code",
   "execution_count": 8,
   "id": "38249334",
   "metadata": {},
   "outputs": [
    {
     "name": "stdout",
     "output_type": "stream",
     "text": [
      "name: tumuruu\n"
     ]
    }
   ],
   "source": [
    "name = input(\"What is your name:\")\n",
    "print(\"name: {}\".format(name))"
   ]
  },
  {
   "cell_type": "code",
   "execution_count": 10,
   "id": "96daf4c0",
   "metadata": {},
   "outputs": [
    {
     "name": "stdout",
     "output_type": "stream",
     "text": [
      "first number is 1, second number is 2\n"
     ]
    }
   ],
   "source": [
    "num_1 = input(\"Enter first number:\")\n",
    "num_2 = input(\"Enter second number:\")\n",
    "print(\"first number is {}, second number is {}\".format(num_1, num_2))"
   ]
  },
  {
   "cell_type": "markdown",
   "id": "3126d724",
   "metadata": {},
   "source": [
    "# split"
   ]
  },
  {
   "cell_type": "code",
   "execution_count": 14,
   "id": "26015454",
   "metadata": {},
   "outputs": [
    {
     "name": "stdout",
     "output_type": "stream",
     "text": [
      "1 2 4\n"
     ]
    }
   ],
   "source": [
    "a, b, c = input().split()\n",
    "print(a, b, c)"
   ]
  },
  {
   "cell_type": "markdown",
   "id": "b21942aa",
   "metadata": {},
   "source": [
    "# map\n"
   ]
  },
  {
   "cell_type": "code",
   "execution_count": 17,
   "id": "802f25bf",
   "metadata": {},
   "outputs": [
    {
     "name": "stdout",
     "output_type": "stream",
     "text": [
      "sum: 7\n",
      " prodcut:12\n"
     ]
    }
   ],
   "source": [
    "a, b = map(int, input().split())\n",
    "print(\"sum: {}\\n prodcut:{}\".format(a+b, a*b))"
   ]
  }
 ],
 "metadata": {
  "kernelspec": {
   "display_name": "base",
   "language": "python",
   "name": "python3"
  },
  "language_info": {
   "codemirror_mode": {
    "name": "ipython",
    "version": 3
   },
   "file_extension": ".py",
   "mimetype": "text/x-python",
   "name": "python",
   "nbconvert_exporter": "python",
   "pygments_lexer": "ipython3",
   "version": "3.13.5"
  }
 },
 "nbformat": 4,
 "nbformat_minor": 5
}
